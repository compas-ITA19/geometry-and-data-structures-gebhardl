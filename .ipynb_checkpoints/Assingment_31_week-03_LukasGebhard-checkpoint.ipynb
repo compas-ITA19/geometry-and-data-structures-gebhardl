{
 "cells": [
  {
   "cell_type": "code",
   "execution_count": 1,
   "metadata": {},
   "outputs": [
    {
     "data": {
      "text/plain": [
       "'\\n\\nLecture:    Introduction to Computational Research in AEFC\\n\\nAssignment: Week 03\\n\\nAuthor:     Lukas Gebhard\\n\\n'"
      ]
     },
     "execution_count": 1,
     "metadata": {},
     "output_type": "execute_result"
    }
   ],
   "source": [
    "'''\n",
    "\n",
    "Lecture:    Introduction to Computational Research in AEFC\n",
    "\n",
    "Assignment: Week 03 - a\n",
    "\n",
    "Author:     Lukas Gebhard\n",
    "\n",
    "'''"
   ]
  },
  {
   "cell_type": "code",
   "execution_count": 25,
   "metadata": {},
   "outputs": [],
   "source": [
    "import math"
   ]
  },
  {
   "cell_type": "code",
   "execution_count": 26,
   "metadata": {},
   "outputs": [],
   "source": [
    "#Class for vectors created by three coordinates\n",
    "class Vector:\n",
    "    def __init__(self, x,y,z):\n",
    "        self.x = x\n",
    "        self.y = y\n",
    "        self.z = z\n",
    "        self.length = math.sqrt(math.pow(self.x,2)+math.pow(self.y,2)+math.pow(self.z,2))\n",
    "    \n",
    "def printVector(u):\n",
    "    print(u.x, u.y, u.z)\n",
    "\n",
    "def normalize(u):\n",
    "    return(Vector(u.x/u.length, u.y/u.length, u.z/u.length))\n",
    "        \n",
    "def crossProduct(u,v):\n",
    "    crossX = u.y*v.z-u.z*v.y\n",
    "    crossY = u.z*v.x-u.x*v.z\n",
    "    crossZ = u.x*v.y-u.y*v.x\n",
    "    crossProduct = Vector(crossX,crossY,crossZ)\n",
    "    \n",
    "    return crossProduct"
   ]
  },
  {
   "cell_type": "code",
   "execution_count": 28,
   "metadata": {},
   "outputs": [
    {
     "name": "stdout",
     "output_type": "stream",
     "text": [
      "0.7071067811865475 0.7071067811865475 0.0\n",
      "0.5773502691896257 -0.5773502691896257 0.5773502691896257\n",
      "-0.40824829046386296 0.40824829046386296 0.8164965809277259\n"
     ]
    }
   ],
   "source": [
    "u = Vector(2,2,0)\n",
    "v = Vector(0,3,3)\n",
    "\n",
    "orthoNormal_1 = normalize(u)\n",
    "orthoNormal_2 = normalize(crossProduct(u,v))\n",
    "orthoNormal_3 = normalize(crossProduct(orthoNormal_2,u))\n",
    "\n",
    "printVector(orthoNormal_1)\n",
    "printVector(orthoNormal_2)\n",
    "printVector(orthoNormal_3)\n"
   ]
  }
 ],
 "metadata": {
  "kernelspec": {
   "display_name": "Python 3",
   "language": "python",
   "name": "python3"
  },
  "language_info": {
   "codemirror_mode": {
    "name": "ipython",
    "version": 3
   },
   "file_extension": ".py",
   "mimetype": "text/x-python",
   "name": "python",
   "nbconvert_exporter": "python",
   "pygments_lexer": "ipython3",
   "version": "3.7.3"
  }
 },
 "nbformat": 4,
 "nbformat_minor": 2
}
