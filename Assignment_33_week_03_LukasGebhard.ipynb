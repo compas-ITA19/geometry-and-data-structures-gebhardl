{
 "cells": [
  {
   "cell_type": "code",
   "execution_count": 16,
   "metadata": {},
   "outputs": [],
   "source": [
    "import numpy as np\n",
    "import math\n",
    "from random import random"
   ]
  },
  {
   "cell_type": "code",
   "execution_count": 25,
   "metadata": {},
   "outputs": [],
   "source": [
    "def crossProduct(u, v):\n",
    "    uXv = [\n",
    "            u[1]*v[2]-u[2]*v[1], \n",
    "            u[2]*v[0]-u[0]*v[2], \n",
    "            u[0]*v[1]-u[1]*v[0]\n",
    "            ]\n",
    "    \n",
    "    return uXv\n",
    "        "
   ]
  },
  {
   "cell_type": "code",
   "execution_count": 26,
   "metadata": {},
   "outputs": [
    {
     "name": "stdout",
     "output_type": "stream",
     "text": [
      "[[-1552.0464557921728, 2437.208672302462, 11.82674242737005], [1271.862017543072, 2176.7145572988056, -2714.247635882165], [-245.73833563272706, -2193.1650360703816, 1144.3824991002175], [4404.709365023707, -2007.7301784003967, -446.2489997547568], [-5268.497586728037, 3177.3946677089643, 4157.323477716576]]\n"
     ]
    }
   ],
   "source": [
    "# Construct Arrays\n",
    "n = 5\n",
    "u = []\n",
    "v = []\n",
    "for i in range(n):\n",
    "    u.append([100*random(),100*random(),100*random()])\n",
    "    v.append([100*random(),100*random(),100*random()])\n",
    "    \n",
    "uXv = []\n",
    "for i in range(len(u)):\n",
    "    uXv.append(crossProduct(u[i], v[i]))\n",
    "\n",
    "print(uXv)"
   ]
  },
  {
   "cell_type": "code",
   "execution_count": 27,
   "metadata": {},
   "outputs": [
    {
     "name": "stdout",
     "output_type": "stream",
     "text": [
      "[[-1552.04645579  2437.2086723     11.82674243]\n",
      " [ 1271.86201754  2176.7145573  -2714.24763588]\n",
      " [ -245.73833563 -2193.16503607  1144.3824991 ]\n",
      " [ 4404.70936502 -2007.7301784   -446.24899975]\n",
      " [-5268.49758673  3177.39466771  4157.32347772]]\n"
     ]
    }
   ],
   "source": [
    "# using numpy\n",
    "u = np.array(u)\n",
    "v = np.array(v)\n",
    "\n",
    "uXv = np.cross(u,v)\n",
    "\n",
    "print(uXv)"
   ]
  },
  {
   "cell_type": "code",
   "execution_count": null,
   "metadata": {},
   "outputs": [],
   "source": []
  }
 ],
 "metadata": {
  "kernelspec": {
   "display_name": "Python 3",
   "language": "python",
   "name": "python3"
  },
  "language_info": {
   "codemirror_mode": {
    "name": "ipython",
    "version": 3
   },
   "file_extension": ".py",
   "mimetype": "text/x-python",
   "name": "python",
   "nbconvert_exporter": "python",
   "pygments_lexer": "ipython3",
   "version": "3.7.3"
  }
 },
 "nbformat": 4,
 "nbformat_minor": 2
}
